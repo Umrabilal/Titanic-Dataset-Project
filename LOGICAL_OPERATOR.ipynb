{
  "nbformat": 4,
  "nbformat_minor": 0,
  "metadata": {
    "colab": {
      "provenance": [],
      "authorship_tag": "ABX9TyMwtc2E6q03V9Svby9mKqwf",
      "include_colab_link": true
    },
    "kernelspec": {
      "name": "python3",
      "display_name": "Python 3"
    },
    "language_info": {
      "name": "python"
    }
  },
  "cells": [
    {
      "cell_type": "markdown",
      "metadata": {
        "id": "view-in-github",
        "colab_type": "text"
      },
      "source": [
        "<a href=\"https://colab.research.google.com/github/Umrabilal/Titanic-Dataset-Project/blob/main/LOGICAL_OPERATOR.ipynb\" target=\"_parent\"><img src=\"https://colab.research.google.com/assets/colab-badge.svg\" alt=\"Open In Colab\"/></a>"
      ]
    },
    {
      "cell_type": "markdown",
      "source": [
        "# 5 Logical_Operator"
      ],
      "metadata": {
        "id": "2e68SWXW9gb4"
      }
    },
    {
      "cell_type": "code",
      "execution_count": 4,
      "metadata": {
        "colab": {
          "base_uri": "https://localhost:8080/"
        },
        "id": "u8i02otO5YGB",
        "outputId": "537f7593-0e0f-49b3-dad8-c12ec017dcb5"
      },
      "outputs": [
        {
          "output_type": "stream",
          "name": "stdout",
          "text": [
            "True\n",
            "False\n",
            "False\n",
            "True\n",
            "True\n",
            "False\n"
          ]
        }
      ],
      "source": [
        "# logical Operator\n",
        "print(1 == 1)\n",
        "\n",
        "print(1 > 1)\n",
        "\n",
        "print(1 < 1)\n",
        "\n",
        "print(1 >= 1)\n",
        "\n",
        "print(1 <= 1)\n",
        "\n",
        "print (1 != 1)"
      ]
    },
    {
      "cell_type": "code",
      "source": [
        "# logical Operator\n",
        "\n",
        "print(f\"2 == 1 is {1 == 2}\")\n",
        "print(f\"2 > 1 is {1 > 2}\")\n",
        "print(f\"2 < 1 is {1  < 2}\")\n",
        "print(f\"2 >= 1 is {1 >= 2}\")\n",
        "print(f\"2 <= 1 is { 1 <= 2}\")\n",
        "print (f\"2 != 1 is { 1 != 2}\")"
      ],
      "metadata": {
        "colab": {
          "base_uri": "https://localhost:8080/"
        },
        "id": "JS92t3VCDbu8",
        "outputId": "a8645536-0fca-42ff-97c2-5bbaace5db61"
      },
      "execution_count": 10,
      "outputs": [
        {
          "output_type": "stream",
          "name": "stdout",
          "text": [
            "2 == 1 is False\n",
            "2 > 1 is False\n",
            "2 < 1 is True\n",
            "2 >= 1 is False\n",
            "2 <= 1 is True\n",
            "2 != 1 is True\n"
          ]
        }
      ]
    },
    {
      "cell_type": "code",
      "source": [
        "cat = 2\n",
        "dog = 1\n",
        "\n",
        "owner = False\n",
        "print(bool('meooo'))\n",
        "print(bool('waoof'))\n",
        "\n",
        "\n",
        "if cat == dog and 2 >= 1:\n",
        "    print('mouse run away')\n",
        "elif owner :\n",
        "    print('mouse is scared')\n",
        "\n",
        "else:\n",
        "    print ('mouse eat cheese')"
      ],
      "metadata": {
        "colab": {
          "base_uri": "https://localhost:8080/"
        },
        "id": "i-EZD15FHFm5",
        "outputId": "d8665b35-a9f5-48eb-fe10-8796b8bb27d9"
      },
      "execution_count": 30,
      "outputs": [
        {
          "output_type": "stream",
          "name": "stdout",
          "text": [
            "True\n",
            "True\n",
            "mouse eat cheese\n"
          ]
        }
      ]
    },
    {
      "cell_type": "code",
      "source": [
        "cat = 2\n",
        "dog = 1\n",
        "\n",
        "owner = False  # Variable names should be consistent and lowercase\n",
        "\n",
        "print(bool('meooo'))   # True, because non-empty string is True\n",
        "print(bool('waoof'))   # True\n",
        "\n",
        "if cat == dog and 2 >= 1:\n",
        "    print('mouse run away')\n",
        "elif owner:\n",
        "    print('mouse is scared')\n",
        "else:\n",
        "    print('mouse eat cheese')"
      ],
      "metadata": {
        "colab": {
          "base_uri": "https://localhost:8080/"
        },
        "id": "Mf17CBoYMvXo",
        "outputId": "bbed88e9-b58b-48ce-8e4c-9061d1bfc64e"
      },
      "execution_count": 28,
      "outputs": [
        {
          "output_type": "stream",
          "name": "stdout",
          "text": [
            "True\n",
            "True\n",
            "mouse eat cheese\n"
          ]
        }
      ]
    },
    {
      "cell_type": "code",
      "source": [
        "cat = 2\n",
        "dog = 1\n",
        "if cat ==dog and 2 >= 1:\n",
        "    print ('Mouse run away')\n",
        "elif owner:\n",
        "    print ('Mouse is scared')\n",
        "else:\n",
        "    print('Mouse eat cheese')"
      ],
      "metadata": {
        "colab": {
          "base_uri": "https://localhost:8080/"
        },
        "id": "r0v1MnBdNf8G",
        "outputId": "978bc69c-7898-4b8b-c390-77ff8ee9a62e"
      },
      "execution_count": 31,
      "outputs": [
        {
          "output_type": "stream",
          "name": "stdout",
          "text": [
            "Mouse eat cheese\n"
          ]
        }
      ]
    }
  ]
}